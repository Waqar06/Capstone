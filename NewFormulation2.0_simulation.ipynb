{
  "nbformat": 4,
  "nbformat_minor": 2,
  "metadata": {
    "interpreter": {
      "hash": "256f07a8d45e51611e1e8537f469d6b971ad84699aa9c6eac7ffc833e5f43f4b"
    },
    "kernelspec": {
      "name": "python3",
      "display_name": "Python 3.7.3 64-bit ('base': conda)"
    },
    "language_info": {
      "codemirror_mode": {
        "name": "ipython",
        "version": 3
      },
      "file_extension": ".py",
      "mimetype": "text/x-python",
      "name": "python",
      "nbconvert_exporter": "python",
      "pygments_lexer": "ipython3",
      "version": "3.7.3"
    },
    "colab": {
      "name": "NewFormulation.ipynb",
      "provenance": [],
      "collapsed_sections": [
        "3lPRdBCMRlAm"
      ]
    }
  },
  "cells": [
    {
      "cell_type": "markdown",
      "source": [
        "Reading the dataset of ignitions started with Electric line."
      ],
      "metadata": {
        "id": "p634JC3WRlAP"
      }
    },
    {
      "cell_type": "code",
      "execution_count": 194,
      "source": [
        "import numpy as np\r\n",
        "import pandas as pd\r\n",
        "import random\r\n",
        "import itertools\r\n",
        "from scipy.optimize import minimize\r\n",
        "import matplotlib.pyplot as plt\r\n",
        "from matplotlib.pyplot import figure"
      ],
      "outputs": [],
      "metadata": {
        "id": "dbisNwWiRlAI"
      }
    },
    {
      "cell_type": "code",
      "execution_count": 195,
      "source": [
        "df = pd.read_csv(\"Dataset.csv\", encoding = 'latin1')"
      ],
      "outputs": [],
      "metadata": {
        "id": "e8A-PZxqRlAT"
      }
    },
    {
      "cell_type": "code",
      "execution_count": 196,
      "source": [
        "new_df = df.drop(['OBJECTID1','File_tag','Provider','Date','Address_of_incident_4','CODE','NAME','ID_of__nearest__asset_5',\r\n",
        "             'ID_of_nearest__polyphase__line_','Type_of_primary_asset__involved','Kind_of_fire_start_as_per_Claus',\r\n",
        "             'Location__area_12','Fire__danger__rating_13','DNSP_record_number_14','OSIRIS___ESV__reference__number',\r\n",
        "             'Fault__description_16','Overhead_conductors','BUFF_DIST','FOR_CODE','STATION_ID','CODE','NAME','WeatherStation',\r\n",
        "             'Voltage_of_line_in_which__fire_','Network_categorisation_8','Phase_s__of__line_or__transform','FOR_TYPE','FOR_CAT'], axis = 1)"
      ],
      "outputs": [],
      "metadata": {
        "id": "Y3m8_CM1RlAU"
      }
    },
    {
      "cell_type": "code",
      "execution_count": 197,
      "source": [
        "real_data_df = new_df.dropna()\r\n"
      ],
      "outputs": [],
      "metadata": {
        "id": "xMuNWmRFRlAV"
      }
    },
    {
      "cell_type": "code",
      "execution_count": 198,
      "source": [
        "real_data_df.head(3)"
      ],
      "outputs": [
        {
          "output_type": "execute_result",
          "data": {
            "text/html": [
              "<div>\n",
              "<style scoped>\n",
              "    .dataframe tbody tr th:only-of-type {\n",
              "        vertical-align: middle;\n",
              "    }\n",
              "\n",
              "    .dataframe tbody tr th {\n",
              "        vertical-align: top;\n",
              "    }\n",
              "\n",
              "    .dataframe thead th {\n",
              "        text-align: right;\n",
              "    }\n",
              "</style>\n",
              "<table border=\"1\" class=\"dataframe\">\n",
              "  <thead>\n",
              "    <tr style=\"text-align: right;\">\n",
              "      <th></th>\n",
              "      <th>DateOnly</th>\n",
              "      <th>Date_1</th>\n",
              "      <th>Time_2</th>\n",
              "      <th>Latitude_3</th>\n",
              "      <th>Longitude_3</th>\n",
              "      <th>Location_multiplier</th>\n",
              "      <th>Danger_multiplier</th>\n",
              "      <th>Product_of_multipliers</th>\n",
              "      <th>COVER</th>\n",
              "      <th>HEIGHT</th>\n",
              "      <th>FOREST</th>\n",
              "      <th>Elevation</th>\n",
              "      <th>Monthly Avg Rainfall</th>\n",
              "      <th>Monthly Mean Max Temperature</th>\n",
              "      <th>Monthly Mean Solar Exposure</th>\n",
              "    </tr>\n",
              "  </thead>\n",
              "  <tbody>\n",
              "    <tr>\n",
              "      <th>1</th>\n",
              "      <td>24/01/2020</td>\n",
              "      <td>43854.00000</td>\n",
              "      <td>0.667361</td>\n",
              "      <td>-38.754127</td>\n",
              "      <td>143.667405</td>\n",
              "      <td>0.2</td>\n",
              "      <td>0.5</td>\n",
              "      <td>0.1</td>\n",
              "      <td>6</td>\n",
              "      <td>6</td>\n",
              "      <td>0</td>\n",
              "      <td>7.690627</td>\n",
              "      <td>129.4</td>\n",
              "      <td>26.9</td>\n",
              "      <td>21.8</td>\n",
              "    </tr>\n",
              "    <tr>\n",
              "      <th>3</th>\n",
              "      <td>20/02/2018</td>\n",
              "      <td>43151.69375</td>\n",
              "      <td>43151.693750</td>\n",
              "      <td>-38.669141</td>\n",
              "      <td>145.615890</td>\n",
              "      <td>0.2</td>\n",
              "      <td>1.0</td>\n",
              "      <td>0.2</td>\n",
              "      <td>6</td>\n",
              "      <td>6</td>\n",
              "      <td>0</td>\n",
              "      <td>25.977764</td>\n",
              "      <td>1.2</td>\n",
              "      <td>27</td>\n",
              "      <td>20.8</td>\n",
              "    </tr>\n",
              "    <tr>\n",
              "      <th>4</th>\n",
              "      <td>23/02/2018</td>\n",
              "      <td>43154.91458</td>\n",
              "      <td>43154.914580</td>\n",
              "      <td>-38.703816</td>\n",
              "      <td>145.819190</td>\n",
              "      <td>4.6</td>\n",
              "      <td>0.5</td>\n",
              "      <td>2.3</td>\n",
              "      <td>6</td>\n",
              "      <td>6</td>\n",
              "      <td>0</td>\n",
              "      <td>9.772949</td>\n",
              "      <td>1.2</td>\n",
              "      <td>27</td>\n",
              "      <td>20.8</td>\n",
              "    </tr>\n",
              "  </tbody>\n",
              "</table>\n",
              "</div>"
            ],
            "text/plain": [
              "     DateOnly       Date_1        Time_2  Latitude_3  Longitude_3  \\\n",
              "1  24/01/2020  43854.00000      0.667361  -38.754127   143.667405   \n",
              "3  20/02/2018  43151.69375  43151.693750  -38.669141   145.615890   \n",
              "4  23/02/2018  43154.91458  43154.914580  -38.703816   145.819190   \n",
              "\n",
              "   Location_multiplier  Danger_multiplier  Product_of_multipliers  COVER  \\\n",
              "1                  0.2                0.5                     0.1      6   \n",
              "3                  0.2                1.0                     0.2      6   \n",
              "4                  4.6                0.5                     2.3      6   \n",
              "\n",
              "   HEIGHT  FOREST  Elevation Monthly Avg Rainfall  \\\n",
              "1       6       0   7.690627                129.4   \n",
              "3       6       0  25.977764                  1.2   \n",
              "4       6       0   9.772949                  1.2   \n",
              "\n",
              "  Monthly Mean Max Temperature Monthly Mean Solar Exposure  \n",
              "1                         26.9                        21.8  \n",
              "3                           27                        20.8  \n",
              "4                           27                        20.8  "
            ]
          },
          "metadata": {},
          "execution_count": 198
        }
      ],
      "metadata": {
        "colab": {
          "base_uri": "https://localhost:8080/",
          "height": 212
        },
        "id": "mh7IxVSvRlAV",
        "outputId": "d2a27a3b-0fa8-4a11-c013-d0fccd0ff442"
      }
    },
    {
      "cell_type": "code",
      "execution_count": 199,
      "source": [
        "\r\n",
        "real_data_df.shape"
      ],
      "outputs": [
        {
          "output_type": "execute_result",
          "data": {
            "text/plain": [
              "(1625, 15)"
            ]
          },
          "metadata": {},
          "execution_count": 199
        }
      ],
      "metadata": {
        "colab": {
          "base_uri": "https://localhost:8080/"
        },
        "id": "uaEearf7RlAX",
        "outputId": "413bfacd-5923-4241-fe24-579e32422619"
      }
    },
    {
      "cell_type": "code",
      "execution_count": 200,
      "source": [
        "    # create cases list\r\n",
        "    g_factors = [0.2,1.0,4.6,19.8]\r\n",
        "    t_factors = [0.1,0.2,0.5,1,2.0,3.5,5]\r\n",
        "    cases = [g_factors,t_factors]\r\n",
        "    cases_list = list(itertools.product(*cases))\r\n",
        "\r\n",
        "    # data frame for cases real \r\n",
        "\r\n",
        "    df_cases_real = pd.DataFrame(cases_list, columns=['g_factors', 't_factors'])\r\n",
        "    df_cases_real.insert((len(df_cases_real.columns)-1)+1 , 'case', range(1, 1 + len(df_cases_real)))\r\n",
        "    df_cases_real.insert((len(df_cases_real.columns)-1)+1 , 'count', 0)\r\n",
        "\r\n",
        "        # classify records according to case type Real \r\n",
        "\r\n",
        "    group_rows_real = pd.DataFrame(real_data_df.groupby(['Location_multiplier','Danger_multiplier']).size().reset_index(name='count'))\r\n",
        "\r\n",
        "        # adding grouped rows to Real cases data frame\r\n",
        "    for index_cases, row_cases in df_cases_real.iterrows():\r\n",
        "        for index_records, row_records in group_rows_real.iterrows():\r\n",
        "            if (row_cases['g_factors'] == row_records['Location_multiplier'] and  row_cases['t_factors'] == row_records['Danger_multiplier']):\r\n",
        "                df_cases_real.loc[index_cases, 'count'] =   row_records['count'] "
      ],
      "outputs": [],
      "metadata": {}
    },
    {
      "cell_type": "code",
      "execution_count": 201,
      "source": [
        "sim = 2\r\n",
        "\r\n",
        "penalty = np.zeros(sim)\r\n",
        "sum_iru_real_arr =  np.zeros(sim)\r\n",
        "sum_iru_imag_arr = np.zeros(sim)\r\n",
        "\r\n",
        "diff_sum_abs =np.zeros(sim)\r\n",
        "diff_sum_noabs = np.zeros(sim)\r\n",
        "c_values = np.zeros(shape=[sim, 28])\r\n",
        "\r\n",
        "for p in range(sim):\r\n",
        "\r\n",
        "    #Randomly select N records from the dataset\r\n",
        "    random.seed(10)\r\n",
        "    total_records = len(real_data_df.index)\r\n",
        "    random.seed(10)\r\n",
        "    imag_data_df = real_data_df.sample(n=total_records,replace=True)\r\n",
        "\r\n",
        "\r\n",
        "    # data frame for cases imag \r\n",
        "\r\n",
        "    df_cases_imag = pd.DataFrame(cases_list, columns=['g_factors', 't_factors'])\r\n",
        "    df_cases_imag.insert((len(df_cases_imag.columns)-1)+1 , 'case', range(1, 1 + len(df_cases_imag)))\r\n",
        "    df_cases_imag.insert((len(df_cases_imag.columns)-1)+1 , 'count', 0)\r\n",
        "\r\n",
        "\r\n",
        "    # classify records according to case type Imag\r\n",
        "    group_rows_imag = pd.DataFrame(imag_data_df.groupby(['Location_multiplier','Danger_multiplier']).size().reset_index(name='count'))\r\n",
        "\r\n",
        "\r\n",
        "\r\n",
        "    #Calculate impact factor for Real Data frame  ### Imapact factor  (Cases*NumberofRecords) => C*N \r\n",
        "\r\n",
        "    df_cases_real[\"IRU_real\"] = df_cases_real[\"g_factors\"] * df_cases_real[\"t_factors\"] * df_cases_real[\"count\"] \r\n",
        "\r\n",
        "    # adding grouped rows to Imag cases data frame\r\n",
        "    for index_cases, row_cases in df_cases_imag.iterrows():\r\n",
        "        for index_records, row_records in group_rows_imag.iterrows():\r\n",
        "            if (row_cases['g_factors'] == row_records['Location_multiplier'] and  row_cases['t_factors'] == row_records['Danger_multiplier']):\r\n",
        "                df_cases_imag.loc[index_cases, 'count'] =   row_records['count'] \r\n",
        "\r\n",
        "\r\n",
        "    #Calculate impact factor for Imag Data frame  ### Imapact factor  (Cases*NumberofRecords) => C*N\r\n",
        "\r\n",
        "    df_cases_imag[\"IRU_imag\"] = df_cases_imag[\"g_factors\"] * df_cases_imag[\"t_factors\"] * df_cases_imag[\"count\"] \r\n",
        "\r\n",
        "    # Objective\r\n",
        "    x_penalty = 25000\r\n",
        "\r\n",
        "    n_real = df_cases_real[\"count\"] \r\n",
        "    n_imag = df_cases_imag[\"count\"] \r\n",
        "\r\n",
        "    c0 = np.random.randn(28) \r\n",
        "\r\n",
        "\r\n",
        "    def objective(c0):\r\n",
        "        i = 0\r\n",
        "        iru_real = 0\r\n",
        "        iru_imag = 0\r\n",
        "        for i in range(27):\r\n",
        "        # calculate Iru_real\r\n",
        "            prod_real = c0[i] * n_real[i]\r\n",
        "            iru_real = iru_real + prod_real\r\n",
        "            #calculate Iru_imag\r\n",
        "            prod_imag = c0[i] * n_imag[i] \r\n",
        "            iru_imag = iru_imag + prod_imag\r\n",
        "        return (iru_real - iru_imag)\r\n",
        "\r\n",
        "    # Contraints \r\n",
        "\r\n",
        "    def constraint1(c0):\r\n",
        "        return c0[1] - c0[0]     # c2 - c1 >= 0\r\n",
        "\r\n",
        "    def constraint2(c0):\r\n",
        "        return c0[2] - c0[1]     # c3 - c2 >= 0 \r\n",
        "\r\n",
        "    def constraint3(c0):\r\n",
        "        return c0[3] - c0[2]     # c4 - c3 >= 0 \r\n",
        "\r\n",
        "    def constraint4(c0):\r\n",
        "        return c0[4] - c0[3]     # c5 - c4 >= 0\r\n",
        "\r\n",
        "    def constraint5(c0):\r\n",
        "        return c0[5] - c0[4]     # c6 - c5 >= 0\r\n",
        "\r\n",
        "    def constraint6(c0):\r\n",
        "        return c0[6] - c0[5]     # c7 - c6 >= 0\r\n",
        "\r\n",
        "    def constraint7(c0):\r\n",
        "        return c0[7] - c0[6]     # c8 - c1 >= 0  cant be because of row.\r\n",
        "\r\n",
        "    def constraint8(c0):\r\n",
        "        return c0[8] - c0[7]     # c9 - c8 >= 0\r\n",
        "\r\n",
        "    def constraint9(c0):\r\n",
        "        return c0[9] - c0[8]     # c10 - c9 >= 0\r\n",
        "\r\n",
        "    def constraint10(c0):\r\n",
        "        return c0[10] - c0[9]    # c11 - c10 >= 0\r\n",
        "\r\n",
        "    def constraint11(c0):\r\n",
        "        return c0[11] - c0[10]   # c12 - c11 >= 0\r\n",
        "\r\n",
        "    def constraint12(c0):\r\n",
        "        return c0[12] - c0[11]   # c13 - c12 >= 0\r\n",
        "\r\n",
        "    def constraint13(c0):\r\n",
        "        return c0[13] - c0[12]   # c14 - c1 >= 0  cant be because of row \r\n",
        "\r\n",
        "    def constraint14(c0):\r\n",
        "        return c0[14] - c0[13]   # c15 - c14 >= 0\r\n",
        "\r\n",
        "    def constraint15(c0):\r\n",
        "        return c0[15] - c0[14]   # c16 - c15 >= 0\r\n",
        "\r\n",
        "    def constraint16(c0):\r\n",
        "        return c0[16] - c0[15]   # c17 - c16 >= 0\r\n",
        "\r\n",
        "    def constraint17(c0):\r\n",
        "        return c0[17] - c0[16]   # c18 - c17 >= 0\r\n",
        "\r\n",
        "    def constraint18(c0):\r\n",
        "        return c0[18] - c0[17]   # c19 - c18 >= 0\r\n",
        "\r\n",
        "    def constraint19(c0):\r\n",
        "        return c0[19] - c0[18]   # c20 - c19 >= 0\r\n",
        "\r\n",
        "    def constraint20(c0):\r\n",
        "        return c0[20] - c0[19]   # c21 - c20 >= 0\r\n",
        "\r\n",
        "    def constraint21(c0):\r\n",
        "        return c0[21] - c0[20]   # c21 - c7 >= 0\r\n",
        "\r\n",
        "    def constraint22(c0):\r\n",
        "        return c0[22] - c0[21]   # c23 - c22 >= 0\r\n",
        "\r\n",
        "    def constraint23(c0):\r\n",
        "        return c0[23] - c0[22]   # c24 - c23 >= 0\r\n",
        "\r\n",
        "    def constraint24(c0):\r\n",
        "        return c0[24] - c0[23]   # c25 - c24 >= 0\r\n",
        "\r\n",
        "    def constraint25(c0):\r\n",
        "        return c0[25] - c0[24]   # c26 - c25 >= 0\r\n",
        "\r\n",
        "    def constraint26(c0):\r\n",
        "        return c0[26] - c0[25]   # c27 - c26 >= 0\r\n",
        "\r\n",
        "    def constraint27(c0):\r\n",
        "        return c0[27] - c0[26]   # c28 - c27 >= 0\r\n",
        "\r\n",
        "    def constraint28(c0):\r\n",
        "        i = 0\r\n",
        "        iru_real = 0\r\n",
        "        iru_imag = 0\r\n",
        "        for i in range(27):\r\n",
        "            # calculate Iru_real\r\n",
        "            prod_real = c0[i] * n_real[i]\r\n",
        "            iru_real = iru_real + prod_real\r\n",
        "            #calculate Iru_imag\r\n",
        "            prod_imag = c0[i] * n_imag[i] \r\n",
        "            iru_imag = iru_imag + prod_imag\r\n",
        "        return ((iru_real - iru_imag) * 25000) - 1000000\r\n",
        "   \r\n",
        "\r\n",
        "\r\n",
        "    con1 = {'type': 'ineq', 'fun': constraint1}\r\n",
        "    con2 = {'type': 'ineq', 'fun': constraint2}\r\n",
        "    con3 = {'type': 'ineq', 'fun': constraint3}\r\n",
        "    con4 = {'type': 'ineq', 'fun': constraint4}\r\n",
        "    con5 = {'type': 'ineq', 'fun': constraint5}\r\n",
        "    con6 = {'type': 'ineq', 'fun': constraint6}\r\n",
        "    con7 = {'type': 'ineq', 'fun': constraint7}\r\n",
        "    con8 = {'type': 'ineq', 'fun': constraint8}\r\n",
        "    con9 = {'type': 'ineq', 'fun': constraint9}\r\n",
        "    con10 = {'type': 'ineq', 'fun': constraint10}\r\n",
        "    con11 = {'type': 'ineq', 'fun': constraint11}\r\n",
        "    con12 = {'type': 'ineq', 'fun': constraint12}\r\n",
        "    con13 = {'type': 'ineq', 'fun': constraint13}\r\n",
        "    con14 = {'type': 'ineq', 'fun': constraint14}\r\n",
        "    con15 = {'type': 'ineq', 'fun': constraint15}\r\n",
        "    con16 = {'type': 'ineq', 'fun': constraint16}\r\n",
        "    con17 = {'type': 'ineq', 'fun': constraint17}\r\n",
        "    con18 = {'type': 'ineq', 'fun': constraint18}\r\n",
        "    con19 = {'type': 'ineq', 'fun': constraint19}\r\n",
        "    con20 = {'type': 'ineq', 'fun': constraint20}\r\n",
        "    con21 = {'type': 'ineq', 'fun': constraint21}\r\n",
        "    con22 = {'type': 'ineq', 'fun': constraint22}\r\n",
        "    con23 = {'type': 'ineq', 'fun': constraint23}\r\n",
        "    con24 = {'type': 'ineq', 'fun': constraint24}\r\n",
        "    con25 = {'type': 'ineq', 'fun': constraint25}\r\n",
        "    con26 = {'type': 'ineq', 'fun': constraint26}\r\n",
        "    con27 = {'type': 'ineq', 'fun': constraint27}\r\n",
        "    con28 = {'type': 'ineq', 'fun': constraint28}\r\n",
        "\r\n",
        "    #optimize\r\n",
        "\r\n",
        "    cons = ([con1,con2,con3,con4,con5,con6,con7,con8,con9,con10,con11,con12,con13,con14,con15,con16,con17,con18,con19,con20,con21,con22,con23,con24,con25,con26,con27,con28])\r\n",
        "\r\n",
        "    # optimize\r\n",
        "    b = (1.0,100000.0)\r\n",
        "    bnds = (b,b, b, b,b,b,b,b,b,b,b,b,b,b,b,b,b,b,b,b,b,b,b,b,b,b,b,b)\r\n",
        "    solution = minimize(objective,c0,method='SLSQP',constraints=cons)\r\n",
        "    x = solution.x\r\n",
        "    # Save values of Cases for each c_real - c_imaginiary\r\n",
        "    k = 0\r\n",
        "    for k in range(len(x)):\r\n",
        "        c_values[p][k] = x[k]\r\n",
        "        k = k+1\r\n",
        "\r\n",
        "    # dataframe with values of Cases\r\n",
        "\r\n",
        "    df_cases_values = pd.DataFrame(x, columns=['values'])\r\n",
        "    df_cases_values.insert((len(df_cases_values.columns)-1)+1 , 'case', range(1, 1 + len(df_cases_values)))\r\n",
        "\r\n",
        "    test_real_df = pd.DataFrame(columns=['count', 'c', 'IRU'])\r\n",
        "    test_real_df['count'] = df_cases_real['count']\r\n",
        "    test_real_df['c'] = df_cases_values['values']\r\n",
        "    test_real_df['IRU'] = test_real_df['count'] * test_real_df['c']\r\n",
        "    sum_iru_real = np.sum(test_real_df['IRU'])\r\n",
        "\r\n",
        "\r\n",
        "    test_imag_df = pd.DataFrame(columns=['count', 'c', 'IRU'])\r\n",
        "    test_imag_df['count'] = df_cases_imag['count']\r\n",
        "    test_imag_df['c'] = df_cases_values['values']\r\n",
        "    test_imag_df['IRU'] = test_imag_df['count'] * test_imag_df['c']\r\n",
        "    sum_iru_imag = np.sum(test_imag_df['IRU'])\r\n",
        "\r\n",
        "    # sum of iru imag\r\n",
        "    sum_iru_imag_arr[p] = sum_iru_imag \r\n",
        "    # sum of iru real \r\n",
        "    sum_iru_real_arr[p] = sum_iru_real\r\n",
        "    # sum diff bas\r\n",
        "    diff_sum_abs[p] =  np.abs(sum_iru_real - sum_iru_imag)\r\n",
        "    # sum diff no abs\r\n",
        "    diff_sum_noabs[p] = sum_iru_real - sum_iru_imag\r\n",
        "    # without scaling constant \r\n",
        "    penalty[p] = np.abs(sum_iru_real - sum_iru_imag) * 25000\r\n"
      ],
      "outputs": [],
      "metadata": {}
    },
    {
      "cell_type": "code",
      "execution_count": 213,
      "source": [
        "#penalty"
      ],
      "outputs": [],
      "metadata": {}
    },
    {
      "cell_type": "code",
      "execution_count": 206,
      "source": [
        "\r\n",
        "figure(figsize=(8, 6), dpi=80)\r\n",
        "plt.plot(penalty,'ro')\r\n",
        "plt.xlabel(\"Number of Years\")\r\n",
        "plt.ylabel(\"Penalty\")\r\n",
        "plt.title(\"Simulation of penalty for 1000 years\")\r\n",
        "plt.show()"
      ],
      "outputs": [
        {
          "output_type": "display_data",
          "data": {
            "image/png": "[encoded data removed]",
            "text/plain": [
              "<Figure size 640x480 with 1 Axes>"
            ]
          },
          "metadata": {
            "needs_background": "light"
          }
        }
      ],
      "metadata": {}
    },
    {
      "cell_type": "code",
      "execution_count": 207,
      "source": [
        "\r\n",
        "plt.plot(penalty)\r\n",
        "plt.xlabel(\"Number of Years\")\r\n",
        "plt.ylabel(\"Penalty\")\r\n",
        "plt.title(\"Simulation of penalty for 1000 years\")\r\n",
        "plt.ticklabel_format(style='plain')\r\n",
        "plt.show()"
      ],
      "outputs": [
        {
          "output_type": "display_data",
          "data": {
            "image/png": "[encoded data removed]",
            "text/plain": [
              "<Figure size 432x288 with 1 Axes>"
            ]
          },
          "metadata": {
            "needs_background": "light"
          }
        }
      ],
      "metadata": {}
    },
    {
      "cell_type": "code",
      "execution_count": 208,
      "source": [
        "plt.plot(sum_iru_real_arr)\r\n",
        "plt.xlabel(\"Number of Years\")\r\n",
        "plt.ylabel(\"Sum IRU real\")\r\n",
        "plt.title(\"Simulation IRU(Real) sum  for 1000 years Without Scaling\")\r\n",
        "plt.ticklabel_format(style='plain')\r\n",
        "plt.show()"
      ],
      "outputs": [
        {
          "output_type": "display_data",
          "data": {
            "image/png": "[encoded data removed]",
            "text/plain": [
              "<Figure size 432x288 with 1 Axes>"
            ]
          },
          "metadata": {
            "needs_background": "light"
          }
        }
      ],
      "metadata": {}
    },
    {
      "cell_type": "code",
      "execution_count": 209,
      "source": [
        "\r\n",
        "plt.plot(sum_iru_imag_arr)\r\n",
        "plt.xlabel(\"Number of Years\")\r\n",
        "plt.ylabel(\"Sum IRU real\")\r\n",
        "plt.title(\"Simulation of IRU(Imag) sum for 1000 years Without Scaling\")\r\n",
        "plt.ticklabel_format(style='plain')\r\n",
        "plt.show()"
      ],
      "outputs": [
        {
          "output_type": "display_data",
          "data": {
            "image/png": "[encoded data removed]",
            "text/plain": [
              "<Figure size 432x288 with 1 Axes>"
            ]
          },
          "metadata": {
            "needs_background": "light"
          }
        }
      ],
      "metadata": {}
    },
    {
      "cell_type": "code",
      "execution_count": 210,
      "source": [
        "plt.plot(diff_sum_abs)\r\n",
        "plt.xlabel(\"Number of Years\")\r\n",
        "plt.ylabel(\"diff of sum ABS\")\r\n",
        "plt.title(\"Simulation of diff og sum abs for 1000 years Without Scaling\")\r\n",
        "plt.ticklabel_format(style='plain')\r\n",
        "plt.show()"
      ],
      "outputs": [
        {
          "output_type": "display_data",
          "data": {
            "image/png": "[encoded data removed]",
            "text/plain": [
              "<Figure size 432x288 with 1 Axes>"
            ]
          },
          "metadata": {
            "needs_background": "light"
          }
        }
      ],
      "metadata": {}
    },
    {
      "cell_type": "code",
      "execution_count": 211,
      "source": [
        "plt.plot(diff_sum_noabs)\r\n",
        "plt.xlabel(\"Number of Years\")\r\n",
        "plt.ylabel(\"diff of sum No Abs\")\r\n",
        "plt.title(\"Simulation of No Abs for 1000 years Without Scaling\")\r\n",
        "plt.ticklabel_format(style='plain')\r\n",
        "plt.show()"
      ],
      "outputs": [
        {
          "output_type": "display_data",
          "data": {
            "image/png": "[encoded data removed]",
            "text/plain": [
              "<Figure size 432x288 with 1 Axes>"
            ]
          },
          "metadata": {
            "needs_background": "light"
          }
        }
      ],
      "metadata": {}
    },
    {
      "cell_type": "code",
      "execution_count": 212,
      "source": [
        "# Print ranges of  c values\r\n",
        "max_values = c_values.max(axis=0, keepdims=True)\r\n",
        "min_values = c_values.min(axis=0, keepdims=True)\r\n",
        "\r\n",
        "for t in range(len(max)):\r\n",
        "    print('Range of c values')\r\n",
        "    print('c0 = ' + str(min_values[0]) + 'to' + str(max_values[0]))"
      ],
      "outputs": [
        {
          "output_type": "execute_result",
          "data": {
            "text/plain": [
              "array([[0., 0., 0., ..., 0., 0., 0.],\n",
              "       [0., 0., 0., ..., 0., 0., 0.],\n",
              "       [0., 0., 0., ..., 0., 0., 0.],\n",
              "       ...,\n",
              "       [0., 0., 0., ..., 0., 0., 0.],\n",
              "       [0., 0., 0., ..., 0., 0., 0.],\n",
              "       [0., 0., 0., ..., 0., 0., 0.]])"
            ]
          },
          "metadata": {},
          "execution_count": 212
        }
      ],
      "metadata": {}
    }
  ]
}