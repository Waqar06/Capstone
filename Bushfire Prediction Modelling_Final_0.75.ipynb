{
 "cells": [
  {
   "cell_type": "code",
   "execution_count": 1,
   "metadata": {},
   "outputs": [],
   "source": [
    "import numpy as np\n",
    "import pandas as pd\n",
    "import random\n",
    "import seaborn as sns\n",
    "from sklearn.model_selection import train_test_split\n",
    "from sklearn.linear_model import LogisticRegression\n",
    "from sklearn.naive_bayes import BernoulliNB\n",
    "from sklearn import svm\n",
    "from sklearn.tree import DecisionTreeClassifier\n",
    "from sklearn.ensemble import RandomForestClassifier\n",
    "from sklearn import tree\n",
    "from sklearn.metrics import accuracy_score, confusion_matrix, classification_report\n",
    "from sklearn import metrics"
   ]
  },
  {
   "cell_type": "code",
   "execution_count": 2,
   "metadata": {},
   "outputs": [],
   "source": [
    "df = pd.read_csv(\"Dataset/Updated_Dataset.csv\", encoding = 'latin1')"
   ]
  },
  {
   "cell_type": "code",
   "execution_count": 3,
   "metadata": {},
   "outputs": [
    {
     "name": "stdout",
     "output_type": "stream",
     "text": [
      "<class 'pandas.core.frame.DataFrame'>\n",
      "RangeIndex: 97500 entries, 0 to 97499\n",
      "Data columns (total 18 columns):\n",
      " #   Column                           Non-Null Count  Dtype  \n",
      "---  ------                           --------------  -----  \n",
      " 0   Unnamed: 0                       97500 non-null  int64  \n",
      " 1   Latitude_3                       97500 non-null  float64\n",
      " 2   Longitude_3                      97500 non-null  float64\n",
      " 3   Voltage_of_line_in_which__fire_  97500 non-null  object \n",
      " 4   Location_multiplier              97500 non-null  float64\n",
      " 5   Danger_multiplier                97500 non-null  float64\n",
      " 6   Product_of_multipliers           97500 non-null  float64\n",
      " 7   COVER                            97500 non-null  float64\n",
      " 8   HEIGHT                           97500 non-null  float64\n",
      " 9   FOREST                           97500 non-null  float64\n",
      " 10  Elevation                        97500 non-null  float64\n",
      " 11  Monthly Mean Max Temperature     97500 non-null  float64\n",
      " 12  Monthly Avg Rainfall             97500 non-null  float64\n",
      " 13  Monthly Mean Solar Exposure      97500 non-null  float64\n",
      " 14  Is_Fire                          97500 non-null  float64\n",
      " 15  day                              97500 non-null  int64  \n",
      " 16  month                            97500 non-null  int64  \n",
      " 17  year                             97500 non-null  int64  \n",
      "dtypes: float64(13), int64(4), object(1)\n",
      "memory usage: 13.4+ MB\n"
     ]
    }
   ],
   "source": [
    "df.info()"
   ]
  },
  {
   "cell_type": "code",
   "execution_count": 4,
   "metadata": {},
   "outputs": [],
   "source": [
    "#random sampling\n",
    "#Ratio 1:1(Negative:Positive)\n",
    "random.seed(42)\n",
    "sample_negatives_random= df.loc[df['Is_Fire'] == 0].sample(4875)\n",
    "sample_positives_random= df.loc[df['Is_Fire'] == 1].sample(frac=1)\n",
    "sample_random = pd.concat([sample_negatives_random,sample_positives_random])\n",
    "sample_random = sample_random.sample(frac=1)"
   ]
  },
  {
   "cell_type": "code",
   "execution_count": 5,
   "metadata": {},
   "outputs": [],
   "source": [
    "sample_random.drop([sample_random.columns[0]], axis = 1, inplace=True)\n",
    "sample_random.drop([sample_random.columns[-1]], axis = 1, inplace=True)\n",
    "sample_random = sample_random.reset_index()\n",
    "df = sample_random.drop(['index'], axis = 1)"
   ]
  },
  {
   "cell_type": "code",
   "execution_count": 6,
   "metadata": {},
   "outputs": [],
   "source": [
    "from sklearn.preprocessing import OneHotEncoder\n",
    "onehotencoder = OneHotEncoder()\n",
    "encoded = onehotencoder.fit_transform(df.Voltage_of_line_in_which__fire_.values.reshape(-1,1)).toarray()\n",
    "encoded = pd.DataFrame(encoded)\n",
    "encoded.columns = ['Voltage_line_1','Voltage_line_2','Voltage_line_3','Voltage_line_4','Voltage_line_5','Voltage_line_6','Voltage_line_7','Voltage_line_8']\n",
    "df = df.reset_index()\n",
    "df = df.drop(['index'], axis = 1)\n",
    "df = df.join(encoded)\n",
    "df= df.drop(['Voltage_of_line_in_which__fire_'], axis=1)"
   ]
  },
  {
   "cell_type": "code",
   "execution_count": 7,
   "metadata": {},
   "outputs": [],
   "source": [
    "df.dropna(inplace=True)"
   ]
  },
  {
   "cell_type": "code",
   "execution_count": 8,
   "metadata": {},
   "outputs": [],
   "source": [
    "X = df.loc[:, df.columns != 'Is_Fire']\n",
    "y = df.loc[:,df.columns == 'Is_Fire']"
   ]
  },
  {
   "cell_type": "code",
   "execution_count": 9,
   "metadata": {},
   "outputs": [],
   "source": [
    "X_train, X_test, y_train, y_test = train_test_split(X, y, test_size=0.20, random_state=42)"
   ]
  },
  {
   "cell_type": "code",
   "execution_count": 10,
   "metadata": {},
   "outputs": [
    {
     "name": "stderr",
     "output_type": "stream",
     "text": [
      "C:\\Users\\monit\\anaconda3\\lib\\site-packages\\sklearn\\utils\\validation.py:63: DataConversionWarning: A column-vector y was passed when a 1d array was expected. Please change the shape of y to (n_samples, ), for example using ravel().\n",
      "  return f(*args, **kwargs)\n"
     ]
    },
    {
     "data": {
      "text/plain": [
       "0.7530769230769231"
      ]
     },
     "execution_count": 10,
     "metadata": {},
     "output_type": "execute_result"
    }
   ],
   "source": [
    "#Logistic Regression\n",
    "clf = LogisticRegression(random_state=0, max_iter=10000).fit(X_train, y_train)\n",
    "y_pred = clf.predict(X_test)\n",
    "accuracy_score(y_test, y_pred)"
   ]
  },
  {
   "cell_type": "code",
   "execution_count": 11,
   "metadata": {},
   "outputs": [
    {
     "data": {
      "text/plain": [
       "0.749423076923077"
      ]
     },
     "execution_count": 11,
     "metadata": {},
     "output_type": "execute_result"
    }
   ],
   "source": [
    "clf.score(X_train, y_train)"
   ]
  },
  {
   "cell_type": "code",
   "execution_count": 12,
   "metadata": {},
   "outputs": [],
   "source": [
    "prediction=clf.predict_proba(X_test)"
   ]
  },
  {
   "cell_type": "code",
   "execution_count": 13,
   "metadata": {},
   "outputs": [
    {
     "data": {
      "image/png": "[encoded data removed]",
      "text/plain": [
       "<Figure size 1080x504 with 1 Axes>"
      ]
     },
     "metadata": {
      "needs_background": "light"
     },
     "output_type": "display_data"
    }
   ],
   "source": [
    "import matplotlib.pyplot as plt\n",
    "\n",
    "plt.figure(figsize=(15,7))\n",
    "plt.hist(prediction[:,0], bins=50, label='No Fire',color='r')\n",
    "plt.hist(prediction[:,1], bins=50, label='Fire', alpha=0.7, color='green')\n",
    "plt.xlabel('Probability of being Positive Class', fontsize=25)\n",
    "plt.ylabel('Number of records in each bucket', fontsize=25)\n",
    "plt.legend(fontsize=15)\n",
    "plt.tick_params(axis='both', labelsize=25, pad=5)\n",
    "plt.show() "
   ]
  },
  {
   "cell_type": "code",
   "execution_count": 14,
   "metadata": {},
   "outputs": [
    {
     "name": "stderr",
     "output_type": "stream",
     "text": [
      "C:\\Users\\monit\\anaconda3\\lib\\site-packages\\sklearn\\utils\\validation.py:63: DataConversionWarning: A column-vector y was passed when a 1d array was expected. Please change the shape of y to (n_samples, ), for example using ravel().\n",
      "  return f(*args, **kwargs)\n"
     ]
    },
    {
     "data": {
      "text/plain": [
       "0.7523076923076923"
      ]
     },
     "execution_count": 14,
     "metadata": {},
     "output_type": "execute_result"
    }
   ],
   "source": [
    "#Naive Bayes\n",
    "nb = BernoulliNB().fit(X_train, y_train)\n",
    "y_nb_pred = nb.predict(X_test)\n",
    "accuracy_score(y_test, y_nb_pred)"
   ]
  },
  {
   "cell_type": "code",
   "execution_count": 15,
   "metadata": {},
   "outputs": [
    {
     "data": {
      "text/plain": [
       "0.7492307692307693"
      ]
     },
     "execution_count": 15,
     "metadata": {},
     "output_type": "execute_result"
    }
   ],
   "source": [
    "nb.score(X_train, y_train)"
   ]
  },
  {
   "cell_type": "code",
   "execution_count": 16,
   "metadata": {},
   "outputs": [
    {
     "data": {
      "image/png": "[encoded data removed]",
      "text/plain": [
       "<Figure size 1080x504 with 1 Axes>"
      ]
     },
     "metadata": {
      "needs_background": "light"
     },
     "output_type": "display_data"
    }
   ],
   "source": [
    "prediction_nb=nb.predict_proba(X_test)\n",
    "plt.figure(figsize=(15,7))\n",
    "plt.hist(prediction_nb[:,0], bins=50, label='No Fire',color='r')\n",
    "plt.hist(prediction_nb[:,1], bins=50, label='Fire', alpha=0.7, color='green')\n",
    "plt.xlabel('Probability of being Positive Class', fontsize=25)\n",
    "plt.ylabel('Number of records in each bucket', fontsize=25)\n",
    "plt.legend(fontsize=15)\n",
    "plt.tick_params(axis='both', labelsize=25, pad=5)\n",
    "plt.show() "
   ]
  },
  {
   "cell_type": "code",
   "execution_count": 17,
   "metadata": {},
   "outputs": [
    {
     "name": "stderr",
     "output_type": "stream",
     "text": [
      "C:\\Users\\monit\\anaconda3\\lib\\site-packages\\sklearn\\utils\\validation.py:63: DataConversionWarning: A column-vector y was passed when a 1d array was expected. Please change the shape of y to (n_samples, ), for example using ravel().\n",
      "  return f(*args, **kwargs)\n"
     ]
    },
    {
     "data": {
      "text/plain": [
       "0.7530769230769231"
      ]
     },
     "execution_count": 17,
     "metadata": {},
     "output_type": "execute_result"
    }
   ],
   "source": [
    "svm_clf = svm.SVC().fit(X_train, y_train)\n",
    "y_svm_pred = svm_clf.predict(X_test)\n",
    "accuracy_score(y_test, y_svm_pred)"
   ]
  },
  {
   "cell_type": "code",
   "execution_count": 18,
   "metadata": {},
   "outputs": [
    {
     "data": {
      "text/plain": [
       "0.7492307692307693"
      ]
     },
     "execution_count": 18,
     "metadata": {},
     "output_type": "execute_result"
    }
   ],
   "source": [
    "svm_clf.score(X_train, y_train)"
   ]
  },
  {
   "cell_type": "code",
   "execution_count": 19,
   "metadata": {},
   "outputs": [
    {
     "name": "stdout",
     "output_type": "stream",
     "text": [
      "Classification Report:\n",
      "               precision    recall  f1-score   support\n",
      "\n",
      "         0.0       0.75      1.00      0.86       979\n",
      "         1.0       0.00      0.00      0.00       321\n",
      "\n",
      "    accuracy                           0.75      1300\n",
      "   macro avg       0.38      0.50      0.43      1300\n",
      "weighted avg       0.57      0.75      0.65      1300\n",
      "\n",
      "Confusion Matrix:\n",
      " [[979   0]\n",
      " [321   0]]\n"
     ]
    },
    {
     "name": "stderr",
     "output_type": "stream",
     "text": [
      "C:\\Users\\monit\\anaconda3\\lib\\site-packages\\sklearn\\metrics\\_classification.py:1248: UndefinedMetricWarning: Precision and F-score are ill-defined and being set to 0.0 in labels with no predicted samples. Use `zero_division` parameter to control this behavior.\n",
      "  _warn_prf(average, modifier, msg_start, len(result))\n",
      "C:\\Users\\monit\\anaconda3\\lib\\site-packages\\sklearn\\metrics\\_classification.py:1248: UndefinedMetricWarning: Precision and F-score are ill-defined and being set to 0.0 in labels with no predicted samples. Use `zero_division` parameter to control this behavior.\n",
      "  _warn_prf(average, modifier, msg_start, len(result))\n",
      "C:\\Users\\monit\\anaconda3\\lib\\site-packages\\sklearn\\metrics\\_classification.py:1248: UndefinedMetricWarning: Precision and F-score are ill-defined and being set to 0.0 in labels with no predicted samples. Use `zero_division` parameter to control this behavior.\n",
      "  _warn_prf(average, modifier, msg_start, len(result))\n"
     ]
    }
   ],
   "source": [
    "print('Classification Report:\\n',classification_report(y_test, y_svm_pred))\n",
    "print('Confusion Matrix:\\n', confusion_matrix(y_test, y_svm_pred))"
   ]
  },
  {
   "cell_type": "code",
   "execution_count": 20,
   "metadata": {},
   "outputs": [
    {
     "data": {
      "text/plain": [
       "0.7823076923076923"
      ]
     },
     "execution_count": 20,
     "metadata": {},
     "output_type": "execute_result"
    }
   ],
   "source": [
    "dt_clf = DecisionTreeClassifier(random_state=0, criterion='entropy').fit(X_train, y_train)\n",
    "y_dt_pred = dt_clf.predict(X_test)\n",
    "accuracy_score(y_test, y_dt_pred)"
   ]
  },
  {
   "cell_type": "code",
   "execution_count": 21,
   "metadata": {},
   "outputs": [
    {
     "data": {
      "text/plain": [
       "1.0"
      ]
     },
     "execution_count": 21,
     "metadata": {},
     "output_type": "execute_result"
    }
   ],
   "source": [
    "dt_clf.score(X_train, y_train)"
   ]
  },
  {
   "cell_type": "code",
   "execution_count": 22,
   "metadata": {},
   "outputs": [
    {
     "name": "stdout",
     "output_type": "stream",
     "text": [
      "Classification Report:\n",
      "               precision    recall  f1-score   support\n",
      "\n",
      "         0.0       0.85      0.86      0.86       979\n",
      "         1.0       0.56      0.55      0.56       321\n",
      "\n",
      "    accuracy                           0.78      1300\n",
      "   macro avg       0.71      0.70      0.71      1300\n",
      "weighted avg       0.78      0.78      0.78      1300\n",
      "\n",
      "Confusion Matrix:\n",
      " [[840 139]\n",
      " [144 177]]\n"
     ]
    }
   ],
   "source": [
    "print('Classification Report:\\n',classification_report(y_test, y_dt_pred))\n",
    "print('Confusion Matrix:\\n', confusion_matrix(y_test, y_dt_pred))"
   ]
  },
  {
   "cell_type": "code",
   "execution_count": 23,
   "metadata": {},
   "outputs": [
    {
     "name": "stderr",
     "output_type": "stream",
     "text": [
      "<ipython-input-23-b1478a3aad10>:1: DataConversionWarning: A column-vector y was passed when a 1d array was expected. Please change the shape of y to (n_samples,), for example using ravel().\n",
      "  rf_clf = RandomForestClassifier(random_state=0, criterion='entropy').fit(X_train, y_train)\n"
     ]
    },
    {
     "data": {
      "text/plain": [
       "0.7961538461538461"
      ]
     },
     "execution_count": 23,
     "metadata": {},
     "output_type": "execute_result"
    }
   ],
   "source": [
    "rf_clf = RandomForestClassifier(random_state=0, criterion='entropy').fit(X_train, y_train)\n",
    "y_rf_pred = rf_clf.predict(X_test)\n",
    "accuracy_score(y_test, y_rf_pred)"
   ]
  },
  {
   "cell_type": "code",
   "execution_count": 24,
   "metadata": {},
   "outputs": [
    {
     "data": {
      "text/plain": [
       "0.9998076923076923"
      ]
     },
     "execution_count": 24,
     "metadata": {},
     "output_type": "execute_result"
    }
   ],
   "source": [
    "rf_clf.score(X_train, y_train)"
   ]
  },
  {
   "cell_type": "code",
   "execution_count": 25,
   "metadata": {},
   "outputs": [
    {
     "data": {
      "image/png": "[encoded data removed]",
      "text/plain": [
       "<Figure size 1080x504 with 1 Axes>"
      ]
     },
     "metadata": {
      "needs_background": "light"
     },
     "output_type": "display_data"
    }
   ],
   "source": [
    "prediction_rf=rf_clf.predict_proba(X_test)\n",
    "plt.figure(figsize=(15,7))\n",
    "plt.hist(prediction_rf[:,0], bins=50, label='No Fire',color='r')\n",
    "plt.hist(prediction_rf[:,1], bins=50, label='Fire', alpha=0.7, color='green')\n",
    "plt.xlabel('Probability of being Positive Class', fontsize=25)\n",
    "plt.ylabel('Number of records in each bucket', fontsize=25)\n",
    "plt.legend(fontsize=15)\n",
    "plt.tick_params(axis='both', labelsize=25, pad=5)\n",
    "plt.show() "
   ]
  },
  {
   "cell_type": "code",
   "execution_count": 26,
   "metadata": {},
   "outputs": [
    {
     "name": "stdout",
     "output_type": "stream",
     "text": [
      "Classification Report:\n",
      "               precision    recall  f1-score   support\n",
      "\n",
      "         0.0       0.83      0.92      0.87       979\n",
      "         1.0       0.63      0.43      0.51       321\n",
      "\n",
      "    accuracy                           0.80      1300\n",
      "   macro avg       0.73      0.67      0.69      1300\n",
      "weighted avg       0.78      0.80      0.78      1300\n",
      "\n",
      "Confusion Matrix:\n",
      " [[896  83]\n",
      " [182 139]]\n"
     ]
    }
   ],
   "source": [
    "print('Classification Report:\\n',classification_report(y_test, y_rf_pred))\n",
    "print('Confusion Matrix:\\n', confusion_matrix(y_test, y_rf_pred))"
   ]
  },
  {
   "cell_type": "code",
   "execution_count": null,
   "metadata": {},
   "outputs": [],
   "source": []
  }
 ],
 "metadata": {
  "interpreter": {
   "hash": "e03a578dcd69d2ba3eb40119d9ceb3ee80dec57795d848b0d0a27b257e8b8c3c"
  },
  "kernelspec": {
   "display_name": "Python 3.8.8 64-bit ('base': conda)",
   "name": "python3"
  },
  "language_info": {
   "codemirror_mode": {
    "name": "ipython",
    "version": 3
   },
   "file_extension": ".py",
   "mimetype": "text/x-python",
   "name": "python",
   "nbconvert_exporter": "python",
   "pygments_lexer": "ipython3",
   "version": "3.8.8"
  },
  "orig_nbformat": 4
 },
 "nbformat": 4,
 "nbformat_minor": 2
}
